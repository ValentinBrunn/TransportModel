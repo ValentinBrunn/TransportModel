{
 "cells": [
  {
   "cell_type": "code",
   "execution_count": 2,
   "metadata": {},
   "outputs": [
    {
     "name": "stdout",
     "output_type": "stream",
     "text": [
      "[1.00000000e-01 1.26185688e-01 1.59228279e-01 2.00923300e-01\n",
      " 2.53536449e-01 3.19926714e-01 4.03701726e-01 5.09413801e-01\n",
      " 6.42807312e-01 8.11130831e-01 1.02353102e+00 1.29154967e+00\n",
      " 1.62975083e+00 2.05651231e+00 2.59502421e+00 3.27454916e+00\n",
      " 4.13201240e+00 5.21400829e+00 6.57933225e+00 8.30217568e+00\n",
      " 1.04761575e+01 1.32194115e+01 1.66810054e+01 2.10490414e+01\n",
      " 2.65608778e+01 3.35160265e+01 4.22924287e+01 5.33669923e+01\n",
      " 6.73415066e+01 8.49753436e+01 1.07226722e+02 1.35304777e+02\n",
      " 1.70735265e+02 2.15443469e+02 2.71858824e+02 3.43046929e+02\n",
      " 4.32876128e+02 5.46227722e+02 6.89261210e+02 8.69749003e+02\n",
      " 1.09749877e+03 1.38488637e+03 1.74752840e+03 2.20513074e+03\n",
      " 2.78255940e+03 3.51119173e+03 4.43062146e+03 5.59081018e+03\n",
      " 7.05480231e+03 8.90215085e+03 1.12332403e+04 1.41747416e+04\n",
      " 1.78864953e+04 2.25701972e+04 2.84803587e+04 3.59381366e+04\n",
      " 4.53487851e+04 5.72236766e+04 7.22080902e+04 9.11162756e+04\n",
      " 1.14975700e+05 1.45082878e+05 1.83073828e+05 2.31012970e+05\n",
      " 2.91505306e+05 3.67837977e+05 4.64158883e+05 5.85702082e+05\n",
      " 7.39072203e+05 9.32603347e+05 1.17681195e+06 1.48496826e+06\n",
      " 1.87381742e+06 2.36448941e+06 2.98364724e+06 3.76493581e+06\n",
      " 4.75081016e+06 5.99484250e+06 7.56463328e+06 9.54548457e+06\n",
      " 1.20450354e+07 1.51991108e+07 1.91791026e+07 2.42012826e+07\n",
      " 3.05385551e+07 3.85352859e+07 4.86260158e+07 6.13590727e+07\n",
      " 7.74263683e+07 9.77009957e+07 1.23284674e+08 1.55567614e+08\n",
      " 1.96304065e+08 2.47707636e+08 3.12571585e+08 3.94420606e+08\n",
      " 4.97702356e+08 6.28029144e+08 7.92482898e+08 1.00000000e+09]\n"
     ]
    }
   ],
   "source": [
    "import numpy as np\n",
    "\n",
    "#Fixed Parameters (to modify computation time)\n",
    "\n",
    "Pitch_Angle_Sample_Size=10 #Number of pitch angles to sample for the pitch angle averaged spectra\n",
    "E_array= np.logspace(-1, 9, 400)  #Energy array for the spectra\n",
    "E_Interpolation_array=np.logspace(-1, 12, 300)  #Energy array for the interpolation of the Particle Loss function and Range function\n",
    "\n",
    "# Disc Model and Radial position of propagation\n",
    "DiscModelName=\"CIW98_XN_AH_CIK\" #Name of the disc model in wich particles are injected\n",
    "\n",
    "Radial_index=15 # Index of the radius in the disc model\n",
    "\n",
    "# Flare parameters\n",
    "Tflare=1E7 # Flare temperature\n",
    "muthinj=3 # Injection energy of the Non-thermal particles in units of the thermal energy\n",
    "alpha=3 # Power law index of the Non-thermal particles flux\n",
    "EcoE=1E8 # Cutoff energy of the Non-thermal particles flux\n",
    "\n"
   ]
  }
 ],
 "metadata": {
  "kernelspec": {
   "display_name": "Python 3",
   "language": "python",
   "name": "python3"
  },
  "language_info": {
   "codemirror_mode": {
    "name": "ipython",
    "version": 3
   },
   "file_extension": ".py",
   "mimetype": "text/x-python",
   "name": "python",
   "nbconvert_exporter": "python",
   "pygments_lexer": "ipython3",
   "version": "3.10.13"
  }
 },
 "nbformat": 4,
 "nbformat_minor": 2
}
