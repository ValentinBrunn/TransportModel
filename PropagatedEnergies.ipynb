{
 "cells": [
  {
   "cell_type": "code",
   "execution_count": 29,
   "metadata": {},
   "outputs": [],
   "source": [
    "\n",
    "import import_ipynb\n",
    "import DiscModel as DM\n",
    "import LossFunctions as LF\n",
    "import DiscModelLossFunctions as DMLF\n",
    "from scipy.interpolate import interp1d\n",
    "import numpy as np\n",
    "\n",
    "\n"
   ]
  },
  {
   "cell_type": "code",
   "execution_count": 30,
   "metadata": {},
   "outputs": [],
   "source": [
    "def E_Initial_vs_E_Propagated(Estar, N, RangeFunction,mu):\n",
    "    #print (Estar,mu)\n",
    "    N=N/mu\n",
    "    logE0max=10\n",
    "    logE0min=np.log10(Estar)\n",
    "    logEtemp=np.log10(Estar)+0.01\n",
    "    if logEtemp>logE0max:\n",
    "        logEtemp=logE0max\n",
    "        return Estar\n",
    "    if N>10**(25.2):\n",
    "        return Estar\n",
    "    I=RangeFunction(10**logEtemp)-RangeFunction(Estar)\n",
    "    if abs(I)>=N :\n",
    "        return Estar\n",
    "    a = 0\n",
    "    test=(I-N)/N\n",
    "    #while (0.99*N < abs(I) and abs(I) < 1.01*N) is not True:\n",
    "    while abs(test)>0.001:\n",
    "\n",
    "        a += 1\n",
    "        \n",
    "        logEtemp=(logE0max+logE0min)/2\n",
    "        I=RangeFunction(10**logEtemp)-RangeFunction(Estar)\n",
    "        if I > N:\n",
    "            logE0max=logEtemp\n",
    "        else:\n",
    "            logE0min=logEtemp \n",
    "        test=(I-N)/N\n",
    "        #print(test, a)\n",
    "        if a>20:\n",
    "            return 10**logEtemp\n",
    "    return 10**logEtemp\n",
    "\n"
   ]
  },
  {
   "cell_type": "code",
   "execution_count": 31,
   "metadata": {},
   "outputs": [],
   "source": [
    "\n",
    "def E_Initial_vs_E_Propagated_Array(E_array, i, DiscModel, E_Interpolation_array, Range_Function_Particle_2DArray,mu):\n",
    "    \n",
    "    \n",
    "    N_Array=DM.ColumnDensityArray(DiscModel)[i][1:]\n",
    "    E0_array=[]\n",
    "    for j in range(len(N_Array)):\n",
    "        interpR=interp1d(E_Interpolation_array, Range_Function_Particle_2DArray[j])\n",
    "        def RangeFunction(E):\n",
    "            return interpR(E)\n",
    "        E0vsEl=[]\n",
    "\n",
    "        for Estar in E_array:\n",
    "            E0=E_Initial_vs_E_Propagated(Estar, N_Array[j], RangeFunction,mu)\n",
    "            #print(E0,Estar)\n",
    "            E0vsEl.append(E0)\n",
    "        E0_array.append(np.array(E0vsEl))\n",
    "    return np.array(E0_array)\n",
    "\n",
    "\n",
    "\n"
   ]
  },
  {
   "cell_type": "code",
   "execution_count": null,
   "metadata": {},
   "outputs": [],
   "source": []
  },
  {
   "cell_type": "code",
   "execution_count": 32,
   "metadata": {},
   "outputs": [
    {
     "data": {
      "text/plain": [
       "\"\\n#RProtonArray = DMLF.RProton2DArray(E_Interpolation_array, 15, DiscModel)\\nfor j in range(len(E0vsE_Electron_array)):\\n    if j % 4 == 0:\\n        logN=np.log10(DM.ColumnDensityArray(DiscModel)[i,j])\\n        if logN> 19:\\n            plt.plot(E_array, E0vsE_Electron_array[j], label=str(round(logN,2)))\\n\\nplt.xscale('log')\\nplt.yscale('log')\\nplt.xlabel('Propagated Energy [eV]')\\nplt.ylabel('Initial Energy [eV]')\\nplt.legend()\\nplt.show()\\n\""
      ]
     },
     "execution_count": 32,
     "metadata": {},
     "output_type": "execute_result"
    }
   ],
   "source": [
    "'''\n",
    "#RProtonArray = DMLF.RProton2DArray(E_Interpolation_array, 15, DiscModel)\n",
    "for j in range(len(E0vsE_Electron_array)):\n",
    "    if j % 4 == 0:\n",
    "        logN=np.log10(DM.ColumnDensityArray(DiscModel)[i,j])\n",
    "        if logN> 19:\n",
    "            plt.plot(E_array, E0vsE_Electron_array[j], label=str(round(logN,2)))\n",
    "\n",
    "plt.xscale('log')\n",
    "plt.yscale('log')\n",
    "plt.xlabel('Propagated Energy [eV]')\n",
    "plt.ylabel('Initial Energy [eV]')\n",
    "plt.legend()\n",
    "plt.show()\n",
    "'''\n"
   ]
  }
 ],
 "metadata": {
  "kernelspec": {
   "display_name": "Python 3",
   "language": "python",
   "name": "python3"
  },
  "language_info": {
   "codemirror_mode": {
    "name": "ipython",
    "version": 3
   },
   "file_extension": ".py",
   "mimetype": "text/x-python",
   "name": "python",
   "nbconvert_exporter": "python",
   "pygments_lexer": "ipython3",
   "version": "3.10.13"
  }
 },
 "nbformat": 4,
 "nbformat_minor": 2
}
