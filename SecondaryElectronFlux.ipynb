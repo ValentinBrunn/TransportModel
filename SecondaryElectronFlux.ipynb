{
 "cells": [
  {
   "cell_type": "code",
   "execution_count": 36,
   "metadata": {},
   "outputs": [],
   "source": [
    "import import_ipynb\n",
    "import IonisationCrossSections as ICS\n",
    "import DiscModel as DM\n",
    "import LossFunctions as LF\n",
    "import DiscModelLossFunctions as DMLF\n",
    "import FileWritingReading as FWR\n",
    "import GeneralFunctions as GF\n",
    "import numpy as np\n",
    "import matplotlib.pyplot as plt\n",
    "from scipy import integrate"
   ]
  },
  {
   "cell_type": "code",
   "execution_count": 37,
   "metadata": {},
   "outputs": [],
   "source": [
    "\n",
    "def Integrate_Primary_Flux_times_Differential_Cross_Section(E,E_array,PrimaryFlux,Ionization_Energy,DifferentialIonizationFunction):\n",
    "    differentialcross=[]\n",
    "    for  e in E_array:\n",
    "        if e > Ionization_Energy+E:\n",
    "            differentialcross.append(DifferentialIonizationFunction(E, e))\n",
    "            \n",
    "        else: \n",
    "            differentialcross.append(0)\n",
    "        \n",
    "    return integrate.trapezoid(differentialcross*PrimaryFlux,E_array)\n"
   ]
  },
  {
   "cell_type": "code",
   "execution_count": 38,
   "metadata": {},
   "outputs": [],
   "source": [
    "\n",
    "def Average_Differential_Cross_Section_Electron(E,E_array,PrimaryFlux,fH,fH2,fHe):\n",
    "    \n",
    "    I_H=Integrate_Primary_Flux_times_Differential_Cross_Section(E,E_array,PrimaryFlux,GF.Ionization_Energy_H,ICS.Differential_Ionisation_Cross_Section_Electron_H)\n",
    "    I_H2=Integrate_Primary_Flux_times_Differential_Cross_Section(E,E_array,PrimaryFlux,GF.Ionization_Energy_H2,ICS.Differential_Ionisation_Cross_Section_Electron_H2)\n",
    "    I_He=Integrate_Primary_Flux_times_Differential_Cross_Section(E,E_array,PrimaryFlux,GF.Ionization_Energy_He,ICS.Differential_Ionisation_Cross_Section_Electron_He)\n",
    "\n",
    "    return fH * I_H + fHe * I_He + fH2 * I_H2\n",
    "            \n",
    "def Average_Differential_Cross_Section_Proton(E,E_array,PrimaryFlux,fH,fH2,fHe):\n",
    "    \n",
    "    I_H=Integrate_Primary_Flux_times_Differential_Cross_Section(E,E_array,PrimaryFlux,GF.Ionization_Energy_H,ICS.Differential_Ionisation_Cross_Section_Proton_H)\n",
    "    I_H2=Integrate_Primary_Flux_times_Differential_Cross_Section(E,E_array,PrimaryFlux,GF.Ionization_Energy_H2,ICS.Differential_Ionisation_Cross_Section_Proton_H2)\n",
    "    I_He=Integrate_Primary_Flux_times_Differential_Cross_Section(E,E_array,PrimaryFlux,GF.Ionization_Energy_He,ICS.Differential_Ionisation_Cross_Section_Proton_He)\n",
    "\n",
    "    return fH * I_H + fHe * I_He + fH2 * I_H2\n",
    "  \n",
    "\n",
    "\n",
    "def Secondary_Electron_Flux_Electron(E_array,DiscModelName,Tflare,i):\n",
    "    \n",
    "    Primary_Flux=FWR.Read_Propagated_Flux_from_Text_File(\"Propagated_Spectra_Proton\",DiscModelName,Tflare)[1]\n",
    "\n",
    "    DiscModel=DM.readDiscModel(DiscModelName) \n",
    "    LossFunction2DArray=DMLF.Loss_Function_Electron_2DArray(E_array, i, DiscModel)\n",
    "\n",
    "    fH=DM.Relative_Density_H(DiscModel)[i][::-1]\n",
    "    fHe=DM.Relative_Density_He(DiscModel)[i][::-1]\n",
    "    fH2=DM.Relative_Density_H2(DiscModel)[i][::-1]\n",
    "    Primary_Flux[Primary_Flux < 0] = 0\n",
    "    Secondary_Flux = []\n",
    "    for j in range(len(LossFunction2DArray)):\n",
    "        Secondary_Flux_Interm = []\n",
    "        k=0\n",
    "        for E in E_array:\n",
    "            Integral_Secondary_Flux = Average_Differential_Cross_Section_Electron(E,E_array,Primary_Flux[j],fH[j],fH2[j],fHe[j])\n",
    "            \n",
    "            Local_Loss_Function= (LossFunction2DArray[::-1][j])[k]\n",
    "            \n",
    "            secondary_flux_value = E / Local_Loss_Function * Integral_Secondary_Flux\n",
    "            \n",
    "            Secondary_Flux_Interm.append(secondary_flux_value)\n",
    "            k += 1\n",
    "        Secondary_Flux.append(Secondary_Flux_Interm)\n",
    "    FWR.Write_Propagated_Flux_to_Text_File('Secondary_Electron_Flux_Electron',Secondary_Flux,DiscModelName,i,Tflare)\n",
    "    return np.array(Secondary_Flux)\n",
    "\n",
    "\n",
    "def Secondary_Electron_Flux_Proton(E_array, DiscModelName,Tflare, i):\n",
    "    Primary_Flux=FWR.Read_Propagated_Flux_from_Text_File(\"Propagated_Spectra_Proton\",DiscModelName,Tflare)[1]\n",
    "\n",
    "    DiscModel=DM.readDiscModel(DiscModelName) \n",
    "\n",
    "    LossFunction2DArray=DMLF.Loss_Function_Proton_2DArray(E_array, i, DiscModel)\n",
    "    fH=DM.Relative_Density_H(DiscModel)[i][::-1]\n",
    "    fHe=DM.Relative_Density_He(DiscModel)[i][::-1]\n",
    "    fH2=DM.Relative_Density_H2(DiscModel)[i][::-1]\n",
    "    Primary_Flux[Primary_Flux < 0] = 0\n",
    "    Secondary_Flux = []\n",
    "    for j in range(len(LossFunction2DArray)):\n",
    "        Secondary_Flux_Interm = []\n",
    "        k=0\n",
    "        for E in E_array:\n",
    "            Integral_Secondary_Flux = Average_Differential_Cross_Section_Proton(E,E_array,Primary_Flux[j],fH[j],fH2[j],fHe[j])\n",
    "            \n",
    "            Local_Loss_Function= (LossFunction2DArray[::-1][j])[k]\n",
    "            \n",
    "            secondary_flux_value = E / Local_Loss_Function * Integral_Secondary_Flux\n",
    "            \n",
    "            Secondary_Flux_Interm.append(secondary_flux_value)\n",
    "            k += 1\n",
    "        Secondary_Flux.append(Secondary_Flux_Interm)\n",
    "    FWR.Write_Propagated_Flux_to_Text_File('Secondary_Electron_Flux_Proton',Secondary_Flux,DiscModelName,i,Tflare)\n",
    "    return np.array(Secondary_Flux)\n"
   ]
  },
  {
   "cell_type": "code",
   "execution_count": 39,
   "metadata": {},
   "outputs": [],
   "source": [
    "\n",
    "#Secondary_Flux_Electron=Secondary_Electron_Flux_Electron(E_array,Primary_Flux_Electron,LossFunctionElectron2D,DiscModel,i)\n",
    "#Secondary_Flux_Proton=Secondary_Electron_Flux_Proton(E_array,Primary_Flux_Proton,LossFunctionProton2D,DiscModel,i)"
   ]
  },
  {
   "cell_type": "code",
   "execution_count": 40,
   "metadata": {},
   "outputs": [
    {
     "data": {
      "text/plain": [
       "\"\\ndef plot_Particle_Flux(Propagated_Flux_Particle1, Propagated_Flux_Particle2, DiscModel, i):\\n    colors = ['blue', 'red', 'green', 'orange', 'purple', 'cyan', 'magenta', 'yellow']  # Define a list of colors\\n    i=0\\n    for j in range(len(Propagated_Flux_Particle1)):\\n        if (j+1) % 4 == 0:\\n            logN = np.log10((DM.ColumnDensityArray(DiscModel)[i])[::-1][j])\\n            if logN > 19:\\n                if logN < 25.2:\\n                    color = colors[i % len(colors)]  # Select color based on j\\n                    plt.plot(E_array, Propagated_Flux_Particle1[j], '--', color=color)\\n                    plt.plot(E_array, Propagated_Flux_Particle2[j], color=color, label=str(round(logN, 2)))\\n                    i+=1\\n\\n    #plt.plot(E_array, Propagated_Flux_Particle1[0], color='black', label='Injection')\\n    #plt.plot(E_array, Propagated_Flux_Particle2[0], color='red', label='Injection')\\n\\n    plt.xscale('log')\\n    plt.yscale('log')\\n    plt.xlabel('Energy [eV]')\\n    plt.ylabel('j[part/eV/cm^2/s/sr]')\\n    plt.legend()\\n    plt.show()\\n\\n    \\n    \\n\\nplot_Particle_Flux(Tertiary_Flux_Electron,Secondary_Flux_Electron,DiscModel,i)\\n\\n#plot_Particle_Flux('Electron',Primary_Flux_Electron,DiscModel,i)\\n\""
      ]
     },
     "execution_count": 40,
     "metadata": {},
     "output_type": "execute_result"
    }
   ],
   "source": [
    "'''\n",
    "def plot_Particle_Flux(Propagated_Flux_Particle1, Propagated_Flux_Particle2, DiscModel, i):\n",
    "    colors = ['blue', 'red', 'green', 'orange', 'purple', 'cyan', 'magenta', 'yellow']  # Define a list of colors\n",
    "    i=0\n",
    "    for j in range(len(Propagated_Flux_Particle1)):\n",
    "        if (j+1) % 4 == 0:\n",
    "            logN = np.log10((DM.ColumnDensityArray(DiscModel)[i])[::-1][j])\n",
    "            if logN > 19:\n",
    "                if logN < 25.2:\n",
    "                    color = colors[i % len(colors)]  # Select color based on j\n",
    "                    plt.plot(E_array, Propagated_Flux_Particle1[j], '--', color=color)\n",
    "                    plt.plot(E_array, Propagated_Flux_Particle2[j], color=color, label=str(round(logN, 2)))\n",
    "                    i+=1\n",
    "\n",
    "    #plt.plot(E_array, Propagated_Flux_Particle1[0], color='black', label='Injection')\n",
    "    #plt.plot(E_array, Propagated_Flux_Particle2[0], color='red', label='Injection')\n",
    "\n",
    "    plt.xscale('log')\n",
    "    plt.yscale('log')\n",
    "    plt.xlabel('Energy [eV]')\n",
    "    plt.ylabel('j[part/eV/cm^2/s/sr]')\n",
    "    plt.legend()\n",
    "    plt.show()\n",
    "\n",
    "    \n",
    "    \n",
    "\n",
    "plot_Particle_Flux(Tertiary_Flux_Electron,Secondary_Flux_Electron,DiscModel,i)\n",
    "\n",
    "#plot_Particle_Flux('Electron',Primary_Flux_Electron,DiscModel,i)\n",
    "'''"
   ]
  }
 ],
 "metadata": {
  "kernelspec": {
   "display_name": "Python 3",
   "language": "python",
   "name": "python3"
  },
  "language_info": {
   "codemirror_mode": {
    "name": "ipython",
    "version": 3
   },
   "file_extension": ".py",
   "mimetype": "text/x-python",
   "name": "python",
   "nbconvert_exporter": "python",
   "pygments_lexer": "ipython3",
   "version": "3.10.13"
  }
 },
 "nbformat": 4,
 "nbformat_minor": 2
}
