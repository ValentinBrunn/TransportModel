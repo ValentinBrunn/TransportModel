{
 "cells": [
  {
   "cell_type": "code",
   "execution_count": 8,
   "metadata": {},
   "outputs": [],
   "source": [
    "import numpy as np\n",
    "from scipy.interpolate import interp1d\n",
    "\n",
    "autocm=1.496e+13\n",
    "N_Avog=6.022E23\n",
    "G=6.674*10.0**-8        #La constante gravitationnelle en cm-3*g*s-2\n",
    "e=1.6*10.0**-19         #La charge élémentaire en Coulomb\n",
    "ecgs=4.8*10**-10\n",
    "epsilon_0=8.854*10.0**(-12)#La permittivité du vide en F*m-1\n",
    "I_Pot_Exc=10.0          #Potentiel d'excitation de l'hydrogène, en eV \n",
    "msol=2.0*10.0**33       #La masse du soleil en grammes\n",
    "mp=1.67*10.0**-24       # La masse du proton en g\n",
    "me=9.81*10.0**-28       # La masse de l'electron en g\n",
    "mpergsurc2=1.5*10.0**-3 #La masse du proton en ergs\n",
    "mpeVsurc2=938.3*10.0**6 #La masse du proton en eV\n",
    "meeVsurc2=511.0*10.0**3 #La masse de l'électron en eV\n",
    "c=2.99*1E10         #La vitesse de la lumière en cm/s\n",
    "k=1.380649*10.0**-16    #La constante de Boltzmann en ergs*K-1\n",
    "kEneV= 8.61*10**(-5)  #La constante de Boltzmann en eV*K-1\n",
    "Beta0= 0.01             #Trouvé dans Mannheim \"Interactions of cosmic ray nuclei\"(1994),\n",
    "                        #1.4*e**2*(hbar*c)**-1 associé à T0 équation 4.28 \n",
    "                        #vitesse orbitale des électrons, vitesse caractéristique\n",
    "sigmaT=6.65*10**-25 # cm**2        \n",
    "BohrRad=0.529*10**(-8)  #Rayon de Bohr                        \n",
    "IH=13.6                 #Energie d'ionisation de l'hydrogène\n",
    "\n",
    "EElecIonAverage=37.0    #Energie moyenne perdue par un électron lors d'un évènement \n",
    "                        #d'ionisation, Padovani et al. 2018 utilisé dans l'équation 44\n",
    "T_Flare= 10.0**8 \n",
    "EnergieDeReference=1        #Energie cinétique moyenne distribution maxwellienne à T=10**8K en eV\n",
    "Ecref=1\n",
    "logEcref=np.log10(Ecref) \n",
    "Ionization_Energy_H = 13.6\n",
    "Ionization_Energy_He = 24.59\n",
    "Ionization_Energy_H2 = 15.42\n",
    "\n",
    "def BetaProton(Ec):\n",
    "    E=Ec/mpeVsurc2\n",
    "    return np.sqrt(((1+E)**2-1)/(1+E)**2)\n",
    "    \n",
    "\n",
    "def BetaElectron(Ec): \n",
    "    E=Ec/meeVsurc2\n",
    "    return np.sqrt(((1+E)**2-1)/(1+E)**2)\n",
    "\n",
    "def Interpolation(XList,Ylist,SampleSizeFactor,ZGridOut): #works only if the Xlist has evenly spaced values\n",
    "\n",
    "    ZGridExtropolated=SampleSizeFactor*np.array(XList) \n",
    "\n",
    "    interpNdiff=interp1d(XList,Ylist,kind='linear',fill_value='extrapolate')\n",
    "    \n",
    "    return ZGridOut,interpNdiff(ZGridOut)\n",
    "\n",
    "\n",
    "    \n",
    "\n"
   ]
  }
 ],
 "metadata": {
  "kernelspec": {
   "display_name": "Python 3",
   "language": "python",
   "name": "python3"
  },
  "language_info": {
   "codemirror_mode": {
    "name": "ipython",
    "version": 3
   },
   "file_extension": ".py",
   "mimetype": "text/x-python",
   "name": "python",
   "nbconvert_exporter": "python",
   "pygments_lexer": "ipython3",
   "version": "3.8.3"
  }
 },
 "nbformat": 4,
 "nbformat_minor": 2
}
