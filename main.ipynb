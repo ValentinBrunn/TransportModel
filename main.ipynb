{
 "cells": [
  {
   "cell_type": "code",
   "execution_count": 1,
   "metadata": {},
   "outputs": [
    {
     "name": "stdout",
     "output_type": "stream",
     "text": [
      "importing Jupyter notebook from InputParameters.ipynb\n",
      "importing Jupyter notebook from GeneralFunctions.ipynb\n",
      "importing Jupyter notebook from FileWritingReading.ipynb\n",
      "importing Jupyter notebook from DiscModel.ipynb\n",
      "importing Jupyter notebook from LossFunctions.ipynb\n",
      "importing Jupyter notebook from DiscModelLossFunctions.ipynb\n",
      "importing Jupyter notebook from PropagatedEnergies.ipynb\n",
      "importing Jupyter notebook from PropagatedSpectra.ipynb\n",
      "importing Jupyter notebook from InjectionSpectra.ipynb\n",
      "Requirement already satisfied: numpy in /Users/vbrunn/opt/anaconda3/envs/py310/lib/python3.10/site-packages (2.0.0)\n",
      "importing Jupyter notebook from SecondaryElectronFlux.ipynb\n",
      "importing Jupyter notebook from IonisationCrossSections.ipynb\n"
     ]
    }
   ],
   "source": [
    "\n",
    "#! pip install prodimopy\n",
    "import import_ipynb\n",
    "import InputParameters as Input\n",
    "import GeneralFunctions as GF\n",
    "import FileWritingReading as FWR\n",
    "import DiscModel as DM\n",
    "import LossFunctions as LF\n",
    "import DiscModelLossFunctions as DMLF\n",
    "import PropagatedEnergies as PE\n",
    "import PropagatedSpectra as PS\n",
    "import InjectionSpectra as IS\n",
    "import SecondaryElectronFlux as SEF\n",
    "from scipy import integrate\n",
    "from scipy.interpolate import interp1d\n",
    "import numpy as np\n",
    "import matplotlib.pyplot as plt"
   ]
  },
  {
   "cell_type": "code",
   "execution_count": 2,
   "metadata": {},
   "outputs": [
    {
     "name": "stdout",
     "output_type": "stream",
     "text": [
      "READ: Reading File:  ProDiMoModels/CIW98_XN_AH_CIK/ProDiMo.out  ...\n"
     ]
    },
    {
     "name": "stdout",
     "output_type": "stream",
     "text": [
      "READ: Reading File:  ProDiMoModels/CIW98_XN_AH_CIK/Species.out  ...\n"
     ]
    },
    {
     "name": "stderr",
     "output_type": "stream",
     "text": [
      "/Users/vbrunn/opt/anaconda3/envs/py310/lib/python3.10/site-packages/prodimopy/read.py:2751: DeprecationWarning: `np.chararray` is deprecated and will be removed from the main namespace in the future. Use an array with a string or bytes dtype instead.\n",
      "  data._radFields_cache=np.chararray(shape=(data.nx,data.nz,data.nlam),itemsize=13)\n",
      "/Users/vbrunn/opt/anaconda3/envs/py310/lib/python3.10/site-packages/prodimopy/read.py:2752: DeprecationWarning: `np.chararray` is deprecated and will be removed from the main namespace in the future. Use an array with a string or bytes dtype instead.\n",
      "  data._nmol_cache=np.chararray((data.nx,data.nz,data.nspec),itemsize=13)\n",
      "/Users/vbrunn/opt/anaconda3/envs/py310/lib/python3.10/site-packages/prodimopy/read.py:2753: DeprecationWarning: `np.chararray` is deprecated and will be removed from the main namespace in the future. Use an array with a string or bytes dtype instead.\n",
      "  data._heat_cache=np.chararray((data.nx,data.nz,data.nheat),itemsize=13)\n",
      "/Users/vbrunn/opt/anaconda3/envs/py310/lib/python3.10/site-packages/prodimopy/read.py:2754: DeprecationWarning: `np.chararray` is deprecated and will be removed from the main namespace in the future. Use an array with a string or bytes dtype instead.\n",
      "  data._cool_cache=np.chararray((data.nx,data.nz,data.ncool),itemsize=13)\n"
     ]
    },
    {
     "name": "stdout",
     "output_type": "stream",
     "text": [
      "READ: Reading File:  ProDiMoModels/CIW98_XN_AH_CIK/FlineEstimates.out  ...\n",
      "READ: Reading File:  ProDiMoModels/CIW98_XN_AH_CIK/Elements.out  ...\n",
      "READ: Reading File:  ProDiMoModels/CIW98_XN_AH_CIK/dust_opac.out  ...\n",
      "READ: Reading File:  ProDiMoModels/CIW98_XN_AH_CIK/dust_sigmaa.out  ...\n",
      "READ: Reading File:  ProDiMoModels/CIW98_XN_AH_CIK/StarSpectrum.out  ...\n",
      "READ: Reading File:  ProDiMoModels/CIW98_XN_AH_CIK/gas_cs.out  ...\n",
      "READ: Reading File:  ProDiMoModels/CIW98_XN_AH_CIK/line_flux.out  ...\n",
      "READ: Reading File:  ProDiMoModels/CIW98_XN_AH_CIK/SED.out  ...\n",
      "READ: Reading File:  ProDiMoModels/CIW98_XN_AH_CIK/SEDana.out  ...\n",
      "READ: Reading File:  ProDiMoModels/CIW98_XN_AH_CIK/image.out  ...\n",
      "READ: Reading File:  ProDiMoModels/CIW98_XN_AH_CIK/Parameter.out  ...\n",
      "INFO: Reading time:  1.25 s\n",
      " \n"
     ]
    },
    {
     "name": "stderr",
     "output_type": "stream",
     "text": [
      "/Users/vbrunn/opt/anaconda3/envs/py310/lib/python3.10/site-packages/prodimopy/read.py:2331: DeprecationWarning: `trapz` is deprecated. Use `trapezoid` instead, or one of the numerical integration functions in `scipy.integrate`.\n",
      "  self._Lbols[self.__incidx]=np.trapz(self.fnuErg[mask],x=self.nu[mask])*-1.0\n",
      "/Users/vbrunn/opt/anaconda3/envs/py310/lib/python3.10/site-packages/prodimopy/read.py:2337: DeprecationWarning: `trapz` is deprecated. Use `trapezoid` instead, or one of the numerical integration functions in `scipy.integrate`.\n",
      "  self._Tbols[self.__incidx]=1.25e-11*np.trapz((self.nu[mask]*self.fnuErg[mask]),x=self.nu[mask])/np.trapz(self.fnuErg[mask],x=self.nu[mask])\n"
     ]
    }
   ],
   "source": [
    "#Fixed Parameters (to modify computation time)\n",
    "\n",
    "Pitch_Angle_Sample_Size=Input.Pitch_Angle_Sample_Size \n",
    "E_array=Input.E_array\n",
    "E_Interpolation_array=Input.E_Interpolation_array\n",
    "\n",
    "\n",
    "# Disc Model and Radial position of propagation\n",
    "DiscModelName=Input.DiscModelName #Name of the disc model in wich particles are injected\n",
    "DiscModel=DM.readDiscModel(DiscModelName)\n",
    "Radial_index=Input.Radial_index # Index of the radius in the disc model where the particles are injected\n",
    "# Flare parameters\n",
    "Tflare=Input.Tflare # Flare temperature\n",
    "muthinj=Input.muthinj # Injection energy of the Non-thermal particles in units of the thermal energy\n",
    "alpha= Input.alpha # Power law index of the Non-thermal particles flux\n",
    "EcoE= Input.EcoE # Cutoff energy of the Non-thermal particles flux\n"
   ]
  },
  {
   "cell_type": "code",
   "execution_count": 3,
   "metadata": {},
   "outputs": [
    {
     "name": "stdout",
     "output_type": "stream",
     "text": [
      "READ: Reading File:  ProDiMoModels/CIW98_XN_AH_CIK/ProDiMo.out  ...\n"
     ]
    },
    {
     "name": "stdout",
     "output_type": "stream",
     "text": [
      "READ: Reading File:  ProDiMoModels/CIW98_XN_AH_CIK/Species.out  ...\n",
      "READ: Reading File:  ProDiMoModels/CIW98_XN_AH_CIK/FlineEstimates.out  ...\n",
      "READ: Reading File:  ProDiMoModels/CIW98_XN_AH_CIK/Elements.out  ...\n",
      "READ: Reading File:  ProDiMoModels/CIW98_XN_AH_CIK/dust_opac.out  ...\n",
      "READ: Reading File:  ProDiMoModels/CIW98_XN_AH_CIK/dust_sigmaa.out  ...\n",
      "READ: Reading File:  ProDiMoModels/CIW98_XN_AH_CIK/StarSpectrum.out  ...\n",
      "READ: Reading File:  ProDiMoModels/CIW98_XN_AH_CIK/gas_cs.out  ...\n",
      "READ: Reading File:  ProDiMoModels/CIW98_XN_AH_CIK/line_flux.out  ...\n",
      "READ: Reading File:  ProDiMoModels/CIW98_XN_AH_CIK/SED.out  ...\n",
      "READ: Reading File:  ProDiMoModels/CIW98_XN_AH_CIK/SEDana.out  ...\n",
      "READ: Reading File:  ProDiMoModels/CIW98_XN_AH_CIK/image.out  ...\n",
      "READ: Reading File:  ProDiMoModels/CIW98_XN_AH_CIK/Parameter.out  ...\n",
      "INFO: Reading time:  1.13 s\n",
      " \n",
      "READ: Reading File:  ProDiMoModels/CIW98_XN_AH_CIK/ProDiMo.out  ...\n",
      "READ: Reading File:  ProDiMoModels/CIW98_XN_AH_CIK/Species.out  ...\n",
      "READ: Reading File:  ProDiMoModels/CIW98_XN_AH_CIK/FlineEstimates.out  ...\n",
      "READ: Reading File:  ProDiMoModels/CIW98_XN_AH_CIK/Elements.out  ...\n",
      "READ: Reading File:  ProDiMoModels/CIW98_XN_AH_CIK/dust_opac.out  ...\n",
      "READ: Reading File:  ProDiMoModels/CIW98_XN_AH_CIK/dust_sigmaa.out  ...\n",
      "READ: Reading File:  ProDiMoModels/CIW98_XN_AH_CIK/StarSpectrum.out  ...\n",
      "READ: Reading File:  ProDiMoModels/CIW98_XN_AH_CIK/gas_cs.out  ...\n",
      "READ: Reading File:  ProDiMoModels/CIW98_XN_AH_CIK/line_flux.out  ...\n",
      "READ: Reading File:  ProDiMoModels/CIW98_XN_AH_CIK/SED.out  ...\n",
      "READ: Reading File:  ProDiMoModels/CIW98_XN_AH_CIK/SEDana.out  ...\n",
      "READ: Reading File:  ProDiMoModels/CIW98_XN_AH_CIK/image.out  ...\n",
      "READ: Reading File:  ProDiMoModels/CIW98_XN_AH_CIK/Parameter.out  ...\n",
      "INFO: Reading time:  2.46 s\n",
      " \n"
     ]
    },
    {
     "data": {
      "text/plain": [
       "array([[0.00000000e+00, 0.00000000e+00, 0.00000000e+00, ...,\n",
       "        2.74782008e-05, 1.37461653e-05, 6.66067390e-06],\n",
       "       [0.00000000e+00, 0.00000000e+00, 0.00000000e+00, ...,\n",
       "        2.74782008e-05, 1.37461653e-05, 6.66067390e-06],\n",
       "       [0.00000000e+00, 0.00000000e+00, 0.00000000e+00, ...,\n",
       "        2.74782008e-05, 1.37461653e-05, 6.66067390e-06],\n",
       "       ...,\n",
       "       [0.00000000e+00, 0.00000000e+00, 0.00000000e+00, ...,\n",
       "        0.00000000e+00, 0.00000000e+00, 0.00000000e+00],\n",
       "       [0.00000000e+00, 0.00000000e+00, 0.00000000e+00, ...,\n",
       "        0.00000000e+00, 0.00000000e+00, 0.00000000e+00],\n",
       "       [0.00000000e+00, 0.00000000e+00, 0.00000000e+00, ...,\n",
       "        0.00000000e+00, 0.00000000e+00, 0.00000000e+00]])"
      ]
     },
     "execution_count": 3,
     "metadata": {},
     "output_type": "execute_result"
    }
   ],
   "source": [
    "PS.Primary_Proton_Flux(E_array,Radial_index,DiscModelName,Tflare,muthinj,alpha,EcoE,E_Interpolation_array,Pitch_Angle_Sample_Size)\n",
    "\n"
   ]
  },
  {
   "cell_type": "code",
   "execution_count": 4,
   "metadata": {},
   "outputs": [
    {
     "name": "stdout",
     "output_type": "stream",
     "text": [
      "READ: Reading File:  ProDiMoModels/CIW98_XN_AH_CIK/ProDiMo.out  ...\n",
      "READ: Reading File:  ProDiMoModels/CIW98_XN_AH_CIK/Species.out  ...\n",
      "READ: Reading File:  ProDiMoModels/CIW98_XN_AH_CIK/FlineEstimates.out  ...\n",
      "READ: Reading File:  ProDiMoModels/CIW98_XN_AH_CIK/Elements.out  ...\n",
      "READ: Reading File:  ProDiMoModels/CIW98_XN_AH_CIK/dust_opac.out  ...\n",
      "READ: Reading File:  ProDiMoModels/CIW98_XN_AH_CIK/dust_sigmaa.out  ...\n",
      "READ: Reading File:  ProDiMoModels/CIW98_XN_AH_CIK/StarSpectrum.out  ...\n",
      "READ: Reading File:  ProDiMoModels/CIW98_XN_AH_CIK/gas_cs.out  ...\n",
      "READ: Reading File:  ProDiMoModels/CIW98_XN_AH_CIK/line_flux.out  ...\n",
      "READ: Reading File:  ProDiMoModels/CIW98_XN_AH_CIK/SED.out  ...\n",
      "READ: Reading File:  ProDiMoModels/CIW98_XN_AH_CIK/SEDana.out  ...\n",
      "READ: Reading File:  ProDiMoModels/CIW98_XN_AH_CIK/image.out  ...\n",
      "READ: Reading File:  ProDiMoModels/CIW98_XN_AH_CIK/Parameter.out  ...\n",
      "INFO: Reading time:  1.10 s\n",
      " \n",
      "READ: Reading File:  ProDiMoModels/CIW98_XN_AH_CIK/ProDiMo.out  ...\n",
      "READ: Reading File:  ProDiMoModels/CIW98_XN_AH_CIK/Species.out  ...\n",
      "READ: Reading File:  ProDiMoModels/CIW98_XN_AH_CIK/FlineEstimates.out  ...\n",
      "READ: Reading File:  ProDiMoModels/CIW98_XN_AH_CIK/Elements.out  ...\n",
      "READ: Reading File:  ProDiMoModels/CIW98_XN_AH_CIK/dust_opac.out  ...\n",
      "READ: Reading File:  ProDiMoModels/CIW98_XN_AH_CIK/dust_sigmaa.out  ...\n",
      "READ: Reading File:  ProDiMoModels/CIW98_XN_AH_CIK/StarSpectrum.out  ...\n",
      "READ: Reading File:  ProDiMoModels/CIW98_XN_AH_CIK/gas_cs.out  ...\n",
      "READ: Reading File:  ProDiMoModels/CIW98_XN_AH_CIK/line_flux.out  ...\n",
      "READ: Reading File:  ProDiMoModels/CIW98_XN_AH_CIK/SED.out  ...\n",
      "READ: Reading File:  ProDiMoModels/CIW98_XN_AH_CIK/SEDana.out  ...\n",
      "READ: Reading File:  ProDiMoModels/CIW98_XN_AH_CIK/image.out  ...\n",
      "READ: Reading File:  ProDiMoModels/CIW98_XN_AH_CIK/Parameter.out  ...\n",
      "INFO: Reading time:  2.19 s\n",
      " \n"
     ]
    },
    {
     "data": {
      "text/plain": [
       "array([[0.00000000e+00, 0.00000000e+00, 0.00000000e+00, ...,\n",
       "        3.20098153e-05, 1.58569383e-05, 7.61201040e-06],\n",
       "       [0.00000000e+00, 0.00000000e+00, 0.00000000e+00, ...,\n",
       "        3.20098153e-05, 1.58569383e-05, 7.61201040e-06],\n",
       "       [0.00000000e+00, 0.00000000e+00, 0.00000000e+00, ...,\n",
       "        3.20098153e-05, 1.58569383e-05, 7.61201040e-06],\n",
       "       ...,\n",
       "       [0.00000000e+00, 0.00000000e+00, 0.00000000e+00, ...,\n",
       "        0.00000000e+00, 0.00000000e+00, 0.00000000e+00],\n",
       "       [0.00000000e+00, 0.00000000e+00, 0.00000000e+00, ...,\n",
       "        0.00000000e+00, 0.00000000e+00, 0.00000000e+00],\n",
       "       [0.00000000e+00, 0.00000000e+00, 0.00000000e+00, ...,\n",
       "        0.00000000e+00, 0.00000000e+00, 0.00000000e+00]])"
      ]
     },
     "execution_count": 4,
     "metadata": {},
     "output_type": "execute_result"
    }
   ],
   "source": [
    "PS.Primary_Electron_Flux(E_array,Radial_index,DiscModelName,Tflare,muthinj,alpha,EcoE,E_Interpolation_array,Pitch_Angle_Sample_Size)\n",
    "\n"
   ]
  },
  {
   "cell_type": "code",
   "execution_count": 5,
   "metadata": {},
   "outputs": [
    {
     "name": "stdout",
     "output_type": "stream",
     "text": [
      "READ: Reading File:  ProDiMoModels/CIW98_XN_AH_CIK/ProDiMo.out  ...\n",
      "READ: Reading File:  ProDiMoModels/CIW98_XN_AH_CIK/Species.out  ...\n",
      "READ: Reading File:  ProDiMoModels/CIW98_XN_AH_CIK/FlineEstimates.out  ...\n",
      "READ: Reading File:  ProDiMoModels/CIW98_XN_AH_CIK/Elements.out  ...\n",
      "READ: Reading File:  ProDiMoModels/CIW98_XN_AH_CIK/dust_opac.out  ...\n",
      "READ: Reading File:  ProDiMoModels/CIW98_XN_AH_CIK/dust_sigmaa.out  ...\n",
      "READ: Reading File:  ProDiMoModels/CIW98_XN_AH_CIK/StarSpectrum.out  ...\n",
      "READ: Reading File:  ProDiMoModels/CIW98_XN_AH_CIK/gas_cs.out  ...\n",
      "READ: Reading File:  ProDiMoModels/CIW98_XN_AH_CIK/line_flux.out  ...\n",
      "READ: Reading File:  ProDiMoModels/CIW98_XN_AH_CIK/SED.out  ...\n",
      "READ: Reading File:  ProDiMoModels/CIW98_XN_AH_CIK/SEDana.out  ...\n",
      "READ: Reading File:  ProDiMoModels/CIW98_XN_AH_CIK/image.out  ...\n",
      "READ: Reading File:  ProDiMoModels/CIW98_XN_AH_CIK/Parameter.out  ...\n",
      "INFO: Reading time:  1.04 s\n",
      " \n",
      "READ: Reading File:  ProDiMoModels/CIW98_XN_AH_CIK/ProDiMo.out  ...\n",
      "READ: Reading File:  ProDiMoModels/CIW98_XN_AH_CIK/Species.out  ...\n",
      "READ: Reading File:  ProDiMoModels/CIW98_XN_AH_CIK/FlineEstimates.out  ...\n",
      "READ: Reading File:  ProDiMoModels/CIW98_XN_AH_CIK/Elements.out  ...\n",
      "READ: Reading File:  ProDiMoModels/CIW98_XN_AH_CIK/dust_opac.out  ...\n",
      "READ: Reading File:  ProDiMoModels/CIW98_XN_AH_CIK/dust_sigmaa.out  ...\n",
      "READ: Reading File:  ProDiMoModels/CIW98_XN_AH_CIK/StarSpectrum.out  ...\n",
      "READ: Reading File:  ProDiMoModels/CIW98_XN_AH_CIK/gas_cs.out  ...\n",
      "READ: Reading File:  ProDiMoModels/CIW98_XN_AH_CIK/line_flux.out  ...\n",
      "READ: Reading File:  ProDiMoModels/CIW98_XN_AH_CIK/SED.out  ...\n",
      "READ: Reading File:  ProDiMoModels/CIW98_XN_AH_CIK/SEDana.out  ...\n",
      "READ: Reading File:  ProDiMoModels/CIW98_XN_AH_CIK/image.out  ...\n",
      "READ: Reading File:  ProDiMoModels/CIW98_XN_AH_CIK/Parameter.out  ...\n",
      "INFO: Reading time:  1.12 s\n",
      " \n"
     ]
    },
    {
     "data": {
      "text/plain": [
       "array([[1.45776314e+08, 1.73085732e+08, 2.05494102e+08, ...,\n",
       "        0.00000000e+00, 0.00000000e+00, 0.00000000e+00],\n",
       "       [1.44894046e+08, 1.72038182e+08, 2.04250410e+08, ...,\n",
       "        0.00000000e+00, 0.00000000e+00, 0.00000000e+00],\n",
       "       [1.43942983e+08, 1.70908950e+08, 2.02909744e+08, ...,\n",
       "        0.00000000e+00, 0.00000000e+00, 0.00000000e+00],\n",
       "       ...,\n",
       "       [0.00000000e+00, 0.00000000e+00, 0.00000000e+00, ...,\n",
       "        0.00000000e+00, 0.00000000e+00, 0.00000000e+00],\n",
       "       [0.00000000e+00, 0.00000000e+00, 0.00000000e+00, ...,\n",
       "        0.00000000e+00, 0.00000000e+00, 0.00000000e+00],\n",
       "       [0.00000000e+00, 0.00000000e+00, 0.00000000e+00, ...,\n",
       "        0.00000000e+00, 0.00000000e+00, 0.00000000e+00]])"
      ]
     },
     "execution_count": 5,
     "metadata": {},
     "output_type": "execute_result"
    }
   ],
   "source": [
    "SEF.Secondary_Electron_Flux_Electron(E_array, DiscModelName,Tflare, Radial_index)"
   ]
  },
  {
   "cell_type": "code",
   "execution_count": 6,
   "metadata": {},
   "outputs": [
    {
     "name": "stdout",
     "output_type": "stream",
     "text": [
      "READ: Reading File:  ProDiMoModels/CIW98_XN_AH_CIK/ProDiMo.out  ...\n",
      "READ: Reading File:  ProDiMoModels/CIW98_XN_AH_CIK/Species.out  ...\n",
      "READ: Reading File:  ProDiMoModels/CIW98_XN_AH_CIK/FlineEstimates.out  ...\n",
      "READ: Reading File:  ProDiMoModels/CIW98_XN_AH_CIK/Elements.out  ...\n",
      "READ: Reading File:  ProDiMoModels/CIW98_XN_AH_CIK/dust_opac.out  ...\n",
      "READ: Reading File:  ProDiMoModels/CIW98_XN_AH_CIK/dust_sigmaa.out  ...\n",
      "READ: Reading File:  ProDiMoModels/CIW98_XN_AH_CIK/StarSpectrum.out  ...\n",
      "READ: Reading File:  ProDiMoModels/CIW98_XN_AH_CIK/gas_cs.out  ...\n",
      "READ: Reading File:  ProDiMoModels/CIW98_XN_AH_CIK/line_flux.out  ...\n",
      "READ: Reading File:  ProDiMoModels/CIW98_XN_AH_CIK/SED.out  ...\n",
      "READ: Reading File:  ProDiMoModels/CIW98_XN_AH_CIK/SEDana.out  ...\n",
      "READ: Reading File:  ProDiMoModels/CIW98_XN_AH_CIK/image.out  ...\n",
      "READ: Reading File:  ProDiMoModels/CIW98_XN_AH_CIK/Parameter.out  ...\n",
      "INFO: Reading time:  1.02 s\n",
      " \n",
      "READ: Reading File:  ProDiMoModels/CIW98_XN_AH_CIK/ProDiMo.out  ...\n",
      "READ: Reading File:  ProDiMoModels/CIW98_XN_AH_CIK/Species.out  ...\n",
      "READ: Reading File:  ProDiMoModels/CIW98_XN_AH_CIK/FlineEstimates.out  ...\n",
      "READ: Reading File:  ProDiMoModels/CIW98_XN_AH_CIK/Elements.out  ...\n",
      "READ: Reading File:  ProDiMoModels/CIW98_XN_AH_CIK/dust_opac.out  ...\n",
      "READ: Reading File:  ProDiMoModels/CIW98_XN_AH_CIK/dust_sigmaa.out  ...\n",
      "READ: Reading File:  ProDiMoModels/CIW98_XN_AH_CIK/StarSpectrum.out  ...\n",
      "READ: Reading File:  ProDiMoModels/CIW98_XN_AH_CIK/gas_cs.out  ...\n",
      "READ: Reading File:  ProDiMoModels/CIW98_XN_AH_CIK/line_flux.out  ...\n",
      "READ: Reading File:  ProDiMoModels/CIW98_XN_AH_CIK/SED.out  ...\n",
      "READ: Reading File:  ProDiMoModels/CIW98_XN_AH_CIK/SEDana.out  ...\n",
      "READ: Reading File:  ProDiMoModels/CIW98_XN_AH_CIK/image.out  ...\n",
      "READ: Reading File:  ProDiMoModels/CIW98_XN_AH_CIK/Parameter.out  ...\n",
      "INFO: Reading time:  2.32 s\n",
      " \n"
     ]
    },
    {
     "data": {
      "text/plain": [
       "array([[9.15631265e+07, 1.08857690e+08, 1.29417800e+08, ...,\n",
       "        0.00000000e+00, 0.00000000e+00, 0.00000000e+00],\n",
       "       [9.10089655e+07, 1.08198859e+08, 1.28634534e+08, ...,\n",
       "        0.00000000e+00, 0.00000000e+00, 0.00000000e+00],\n",
       "       [9.04118205e+07, 1.07488924e+08, 1.27790512e+08, ...,\n",
       "        0.00000000e+00, 0.00000000e+00, 0.00000000e+00],\n",
       "       ...,\n",
       "       [0.00000000e+00, 0.00000000e+00, 0.00000000e+00, ...,\n",
       "        0.00000000e+00, 0.00000000e+00, 0.00000000e+00],\n",
       "       [0.00000000e+00, 0.00000000e+00, 0.00000000e+00, ...,\n",
       "        0.00000000e+00, 0.00000000e+00, 0.00000000e+00],\n",
       "       [0.00000000e+00, 0.00000000e+00, 0.00000000e+00, ...,\n",
       "        0.00000000e+00, 0.00000000e+00, 0.00000000e+00]])"
      ]
     },
     "execution_count": 6,
     "metadata": {},
     "output_type": "execute_result"
    }
   ],
   "source": [
    "SEF.Secondary_Electron_Flux_Proton(E_array, DiscModelName,Tflare, Radial_index)"
   ]
  },
  {
   "cell_type": "code",
   "execution_count": null,
   "metadata": {},
   "outputs": [],
   "source": []
  }
 ],
 "metadata": {
  "kernelspec": {
   "display_name": "Python 3",
   "language": "python",
   "name": "python3"
  },
  "language_info": {
   "codemirror_mode": {
    "name": "ipython",
    "version": 3
   },
   "file_extension": ".py",
   "mimetype": "text/x-python",
   "name": "python",
   "nbconvert_exporter": "python",
   "pygments_lexer": "ipython3",
   "version": "3.10.14"
  }
 },
 "nbformat": 4,
 "nbformat_minor": 2
}
