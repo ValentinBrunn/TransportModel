{
 "cells": [
  {
   "cell_type": "code",
   "execution_count": 1,
   "metadata": {},
   "outputs": [
    {
     "name": "stdout",
     "output_type": "stream",
     "text": [
      "importing Jupyter notebook from PropagatedEnergies.ipynb\n",
      "importing Jupyter notebook from DiscModel.ipynb\n",
      "importing Jupyter notebook from GeneralFunctions.ipynb\n",
      "importing Jupyter notebook from LossFunctions.ipynb\n",
      "importing Jupyter notebook from DiscModelLossFunctions.ipynb\n",
      "importing Jupyter notebook from InjectionSpectra.ipynb\n",
      "importing Jupyter notebook from FileWritingReading.ipynb\n"
     ]
    }
   ],
   "source": [
    "\n",
    "import import_ipynb\n",
    "import PropagatedEnergies as PE\n",
    "import DiscModel as DM\n",
    "import InjectionSpectra as IS\n",
    "import DiscModelLossFunctions as DMLF\n",
    "import FileWritingReading as FWR\n",
    "from scipy import integrate\n",
    "from scipy.interpolate import interp1d\n",
    "import numpy as np"
   ]
  },
  {
   "cell_type": "code",
   "execution_count": 2,
   "metadata": {},
   "outputs": [],
   "source": [
    "\n",
    "def next_flux_Particle(E_array,J_Particle_flux_array, L_Particle_1Darray,E0vsE_Particle_1Darray):\n",
    "    interp_flux=interp1d(E_array,J_Particle_flux_array,fill_value=\"extrapolate\")\n",
    "\n",
    "    L_Particle=L_Particle_1Darray\n",
    "    interp_L_Particle=interp1d(E_array,L_Particle, fill_value=\"extrapolate\")\n",
    "\n",
    "    E0_array=E0vsE_Particle_1Darray\n",
    "\n",
    "    J_propagated= interp_flux(E0_array)*interp_L_Particle(E0_array)/interp_L_Particle(E_array)\n",
    "    return J_propagated\n"
   ]
  },
  {
   "cell_type": "code",
   "execution_count": 3,
   "metadata": {},
   "outputs": [],
   "source": [
    "def Propagated_Particle_Flux(E_array,J_0_Particle_array,L_Particle_2Darray,E0vsE_Particle_2Darray):\n",
    "    J_flux_array=[]\n",
    "    for j in range(0, len(L_Particle_2Darray)):\n",
    "        if j==0:\n",
    "            J_flux_array.append(J_0_Particle_array)\n",
    "        else:\n",
    "            J_flux_array.append(next_flux_Particle(E_array,J_flux_array[j-1], L_Particle_2Darray[::-1][j-1],E0vsE_Particle_2Darray[::-1][j-1]))\n",
    "           \n",
    "    return np.array(J_flux_array)\n",
    "\n",
    "def Pitch_Angle_Averaged_Propagated_Flux_Particle(E_array, i, DiscModel, E_Interpolation_array,L_Particle_array, Range_Function_Particle_2DArray,Pitch_Angle_Sample_Size,J_0_Particle):\n",
    "    Pitch_Angle_Sample=np.linspace(0+0.01,1,Pitch_Angle_Sample_Size)\n",
    "    Propflux=[]\n",
    "    for mu in Pitch_Angle_Sample:\n",
    "        E0vsE_Particle_array=PE.E_Initial_vs_E_Propagated_Array(E_array, i, DiscModel, E_Interpolation_array, Range_Function_Particle_2DArray,mu)\n",
    "        PropfluxE=Propagated_Particle_Flux(E_array,J_0_Particle,L_Particle_array,E0vsE_Particle_array)\n",
    "        Propflux.append(PropfluxE)\n",
    "    return integrate.trapezoid(Propflux,x=Pitch_Angle_Sample,axis=0)\n"
   ]
  },
  {
   "cell_type": "code",
   "execution_count": 4,
   "metadata": {},
   "outputs": [],
   "source": [
    "def Primary_Electron_Flux(E_array,Radial_index,DiscModelName,Tflare,muthinj,alpha,EcoE,E_Interpolation_array,Pitch_Angle_Sample_Size):\n",
    "\n",
    "    #Read the disc model\n",
    "    DiscModel=DM.readDiscModel(DiscModelName) \n",
    "\n",
    "    #Electron Injection Spectra:\n",
    "    J_0_Electron=IS.jOEnth(E_array, Tflare, muthinj, alpha, EcoE)\n",
    "\n",
    "    # Electron Loss Function: \n",
    "    # The loss function is calculated for the energy array E_array and the radius i at each z or N values in the disc model\n",
    "\n",
    "    L_Electron_array = DMLF.Loss_Function_Electron_2DArray(E_array, Radial_index, DiscModel)\n",
    "\n",
    "    #Electron Range Function\n",
    "    # The Range functions are calculated for the energy array E_array and the radius i at each z or N values in the disc model\n",
    "    Range_Function_Electron_2DArray = DMLF.RElectron2DArray(E_Interpolation_array, Radial_index, DiscModel)\n",
    "\n",
    "\n",
    "\n",
    "    #Electron Propagated Flux\n",
    "    # The Propagated Flux is calculated for the energy array E_array and the radius i at each z or N values in the disc model\n",
    "    Propagated_Flux_Electron=Pitch_Angle_Averaged_Propagated_Flux_Particle(E_array, Radial_index, DiscModel, E_Interpolation_array,L_Electron_array, Range_Function_Electron_2DArray,Pitch_Angle_Sample_Size,J_0_Electron)\n",
    "    Propagated_Flux_Electron[Propagated_Flux_Electron < 0] = 0\n",
    "    FWR.Write_Propagated_Flux_to_Text_File(\"Propagated_Spectra_Electron\",Propagated_Flux_Electron,DiscModelName, Radial_index , Tflare)\n",
    "\n",
    "    return Propagated_Flux_Electron\n",
    "\n",
    "\n",
    "\n",
    "def Primary_Proton_Flux(E_array,Radial_index,DiscModelName,Tflare,muthinj,alpha,EcoE,E_Interpolation_array,Pitch_Angle_Sample_Size):\n",
    " \n",
    "    DiscModel=DM.readDiscModel(DiscModelName)\n",
    "\n",
    "    #Proton Injection Spectra:\n",
    "    J_0_Proton=IS.jOPnth(E_array, Tflare, muthinj, alpha, EcoE)\n",
    "\n",
    "    # Proton Loss Function: \n",
    "    # The loss function is calculated for the energy array E_array and the radius i at each z or N values in the disc model\n",
    "\n",
    "    L_Proton_array = DMLF.Loss_Function_Proton_2DArray(E_array, Radial_index , DiscModel)\n",
    "\n",
    "    #Proton Range Function\n",
    "    # The Range functions are calculated for the energy array E_array and the radius i at each z or N values in the disc model\n",
    "\n",
    "    Range_Function_Proton_2DArray = DMLF.RProton2DArray(E_Interpolation_array,Radial_index, DiscModel)\n",
    "\n",
    "\n",
    "\n",
    "    #Proton Propagated Flux\n",
    "    # The Propagated Flux is calculated for the energy array E_array and the radius i at each z or N values in the disc model\n",
    "    \n",
    "    Propagated_Flux_Proton=Pitch_Angle_Averaged_Propagated_Flux_Particle(E_array, Radial_index, DiscModel, E_Interpolation_array,L_Proton_array, Range_Function_Proton_2DArray,Pitch_Angle_Sample_Size,J_0_Proton)\n",
    "    Propagated_Flux_Proton[Propagated_Flux_Proton < 0] = 0\n",
    "    FWR.Write_Propagated_Flux_to_Text_File(\"Propagated_Spectra_Proton\",Propagated_Flux_Proton,DiscModelName,Radial_index,Tflare)\n",
    "    \n",
    "    return Propagated_Flux_Proton"
   ]
  }
 ],
 "metadata": {
  "kernelspec": {
   "display_name": "Python 3",
   "language": "python",
   "name": "python3"
  },
  "language_info": {
   "codemirror_mode": {
    "name": "ipython",
    "version": 3
   },
   "file_extension": ".py",
   "mimetype": "text/x-python",
   "name": "python",
   "nbconvert_exporter": "python",
   "pygments_lexer": "ipython3",
   "version": "3.10.13"
  }
 },
 "nbformat": 4,
 "nbformat_minor": 2
}
