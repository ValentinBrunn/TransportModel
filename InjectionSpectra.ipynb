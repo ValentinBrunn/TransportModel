{
 "cells": [
  {
   "cell_type": "code",
   "execution_count": 2,
   "metadata": {},
   "outputs": [
    {
     "name": "stdout",
     "output_type": "stream",
     "text": [
      "Requirement already satisfied: numpy in /Users/vbrunn/opt/anaconda3/lib/python3.8/site-packages (1.18.5)\n"
     ]
    },
    {
     "ename": "ModuleNotFoundError",
     "evalue": "No module named 'numpy'",
     "output_type": "error",
     "traceback": [
      "\u001b[0;31m---------------------------------------------------------------------------\u001b[0m",
      "\u001b[0;31mModuleNotFoundError\u001b[0m                       Traceback (most recent call last)",
      "Cell \u001b[0;32mIn[2], line 2\u001b[0m\n\u001b[1;32m      1\u001b[0m get_ipython()\u001b[38;5;241m.\u001b[39msystem(\u001b[38;5;124m'\u001b[39m\u001b[38;5;124m pip install numpy\u001b[39m\u001b[38;5;124m'\u001b[39m)\n\u001b[0;32m----> 2\u001b[0m \u001b[38;5;28;01mimport\u001b[39;00m \u001b[38;5;21;01mnumpy\u001b[39;00m \u001b[38;5;28;01mas\u001b[39;00m \u001b[38;5;21;01mnp\u001b[39;00m\n\u001b[1;32m      3\u001b[0m \u001b[38;5;28;01mimport\u001b[39;00m \u001b[38;5;21;01mmatplotlib\u001b[39;00m\u001b[38;5;21;01m.\u001b[39;00m\u001b[38;5;21;01mpyplot\u001b[39;00m \u001b[38;5;28;01mas\u001b[39;00m \u001b[38;5;21;01mplt\u001b[39;00m\n\u001b[1;32m      5\u001b[0m \u001b[38;5;66;03m#This code is the calculation of the non-thermal and thermal electron and proton fluxes in T Tauri flares.\u001b[39;00m\n\u001b[1;32m      6\u001b[0m \u001b[38;5;66;03m#The code is based on the work of Brunn et al. 2024 Appendix\u001b[39;00m\n\u001b[1;32m      7\u001b[0m \u001b[38;5;66;03m#The parameters are :\u001b[39;00m\n\u001b[0;32m   (...)\u001b[0m\n\u001b[1;32m     12\u001b[0m \n\u001b[1;32m     13\u001b[0m \u001b[38;5;66;03m#The fiducial values of these parameters are Tflare=1E7, muthinj=3, alpha=3, EcoE=1E8.\u001b[39;00m\n",
      "\u001b[0;31mModuleNotFoundError\u001b[0m: No module named 'numpy'"
     ]
    }
   ],
   "source": [
    "! pip install numpy\n",
    "import numpy as np\n",
    "import matplotlib.pyplot as plt\n",
    "\n",
    "#This code is the calculation of the non-thermal and thermal electron and proton fluxes in T Tauri flares.\n",
    "#The code is based on the work of Brunn et al. 2024 Appendix\n",
    "#The parameters are :\n",
    "# Tflare (the temperature of the flare), \n",
    "# muthinj (the ratio of the non-thermal injection energy to the peak thermal energy), \n",
    "# alpha (the power law index of the non-thermal distribution), \n",
    "# EcoE (the cut-off energy of the non-thermal distribution)\n",
    "\n",
    "#The fiducial values of these parameters are Tflare=1E7, muthinj=3, alpha=3, EcoE=1E8.\n",
    "\n",
    "from GeneralFunctions import BetaProton, BetaElectron\n",
    "c=3E10\n",
    "kEneV= 8.61*10.0**(-5)  #La constante de Boltzmann en eV*K-1\n",
    "\n",
    "def ne10(T6):\n",
    "    return 20.5*T6**-0.69\n",
    "def L10(T6):\n",
    "    return 7.61*T6**0.45\n",
    "\n",
    "\n",
    "def nTH0(Tflare, muthinj, delta): # thermal electron density (cm-3) Brunn et al. 2024 Appendix\n",
    "    n = ne10(Tflare / 1E6) * 1E10 #total electron density (cm-3) from COUP sample see Brunn et al. 2023\n",
    "    return n / (1 + 3 * muthinj / (delta - 1) * np.sqrt(3 * muthinj / (2 * np.pi)) * np.exp(-3 / 2 * muthinj))  \n",
    "        \n",
    "def nNTH0(Tflare, muthinj, delta): # non-thermal electron density (cm-3) Brunn et al. 2024 Appendix\n",
    "    nth = nTH0(Tflare, muthinj, delta)\n",
    "    return nth * 3* muthinj/(delta-1) * np.sqrt(3*muthinj/(2*np.pi))*np.exp(-3/2*muthinj) \n",
    "\n",
    "def j0Eth(E, Tflare, muthinj, alpha, EcoE):\n",
    "\n",
    "    return nTH0(Tflare, muthinj, alpha) * 2.0 * np.sqrt(E / np.pi) * (kEneV * Tflare) ** (-3 / 2) * np.exp(-E / (kEneV * Tflare)) * BetaElectron(E) * c / (4 * np.pi)\n",
    "def j0Pth(E, Tflare, muthinj, alpha, EcoE):\n",
    "    return nTH0(Tflare, muthinj, alpha) * 2.0 * np.sqrt(E / np.pi) * (kEneV * Tflare) ** (-3 / 2) * np.exp(-E / (kEneV * Tflare)) * BetaProton(E) * c / (4 * np.pi)\n",
    "\n",
    "def jOEnth(E, Tflare, muthinj, alpha, EcoE): # non-thermal electron flux Brunn et al. 2024 Appendix\n",
    "    Einj= muthinj * 3 / 2 * kEneV * Tflare # non thermal injection energy\n",
    "    Nnt = np.zeros_like(E)\n",
    "    mask = E >= Einj\n",
    "    Nnt[mask] = nNTH0(Tflare, muthinj, alpha)*(alpha-1)/Einj #Normalization factor non thermal distribution\n",
    "\n",
    "    return Nnt * (E / Einj) ** -alpha * BetaElectron(E) * c / (4 * np.pi) * np.exp(-E / EcoE)\n",
    "\n",
    "\n",
    "def jOPnth(E, Tflare, muthinj, alpha, EcoE): # non-thermal electron flux Brunn et al. 2024 Appendix\n",
    "    Einj= muthinj * 3 / 2 * kEneV * Tflare # non thermal injection energy\n",
    "    Nnt = np.zeros_like(E)\n",
    "    mask = E >= Einj\n",
    "    Nnt[mask] = nNTH0(Tflare, muthinj, alpha)*(alpha-1)/Einj #Normalization factor non thermal distribution\n",
    "\n",
    "    return Nnt * (E / Einj) ** -alpha * BetaProton(E) * c / (4 * np.pi) * np.exp(-E / EcoE)\n",
    "\n",
    "'''\n",
    "E=np.logspace(1, 8, 500) \n",
    "Tflare=1E7\n",
    "alpha=3\n",
    "muthinj=3\n",
    "EcoE=1E8   \n",
    "plt.plot(E, jOEnth(E, Tflare, muthinj, alpha, EcoE),color='orange', label='Non-thermal Electrons')\n",
    "plt.plot(E, j0Eth(E, Tflare, muthinj, alpha, EcoE),'--',color='orange', label='Thermal Electrons')\n",
    "plt.plot(E, jOPnth(E, Tflare, muthinj, alpha, EcoE),color='blue', label='Non-thermal Protons')\n",
    "plt.plot(E, j0Pth(E, Tflare, muthinj, alpha, EcoE),'--',color='blue', label='Thermal Protons')\n",
    "plt.xscale('log')\n",
    "plt.yscale('log')\n",
    "plt.xlabel('E')\n",
    "plt.ylabel('Flux')\n",
    "plt.legend()\n",
    "plt.xscale('log')\n",
    "plt.yscale('log')\n",
    "plt.xticks(fontsize=15)\n",
    "plt.yticks(fontsize=15)\n",
    "plt.xlabel('$E ~ \\\\rm (eV)$',fontsize=18)\n",
    "plt.ylabel('$j ~\\\\rm (particles / cm^2/str/eV/s$)',fontsize=18)\n",
    "plt.ylim(1E5,1E17)\n",
    "plt.show()\n",
    "'''"
   ]
  },
  {
   "cell_type": "code",
   "execution_count": null,
   "metadata": {},
   "outputs": [],
   "source": []
  }
 ],
 "metadata": {
  "kernelspec": {
   "display_name": "Python 3",
   "language": "python",
   "name": "python3"
  },
  "language_info": {
   "codemirror_mode": {
    "name": "ipython",
    "version": 3
   },
   "file_extension": ".py",
   "mimetype": "text/x-python",
   "name": "python",
   "nbconvert_exporter": "python",
   "pygments_lexer": "ipython3",
   "version": "3.10.13"
  }
 },
 "nbformat": 4,
 "nbformat_minor": 2
}
