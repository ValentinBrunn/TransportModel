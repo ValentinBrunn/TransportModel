{
 "cells": [
  {
   "cell_type": "code",
   "execution_count": 2,
   "metadata": {},
   "outputs": [],
   "source": [
    "import import_ipynb\n",
    "import numpy as np\n",
    "import os\n",
    "import DiscModel as DM\n",
    "\n"
   ]
  },
  {
   "cell_type": "code",
   "execution_count": 2,
   "metadata": {},
   "outputs": [],
   "source": [
    "\n",
    "def Write_Propagated_Flux_to_Text_File(directory,Propagated_Flux,DiscModelName,iR,Tflare):\n",
    "    DiscModel=DM.readDiscModel(DiscModelName) \n",
    "    # Create a directory to store the text file\n",
    "    #directory = \"PropagatedSpectra\"\n",
    "    if not os.path.exists(directory):\n",
    "        os.makedirs(directory)\n",
    "\n",
    "    # Create the text file\n",
    "    filename = f\"TFlare={Tflare:.2e}\"+DiscModelName+\".txt\"\n",
    "    filepath = os.path.join(directory, filename)\n",
    "\n",
    "    # Write Propagated_Flux_Electron to the text file\n",
    "    with open(filepath, \"w\") as file:\n",
    "        for i in range(len(Propagated_Flux)):\n",
    "            file.write(str(DM.ColumnDensityArray(DiscModel)[iR][::-1][i]))\n",
    "            for j in Propagated_Flux[i]:\n",
    "                file.write(','+str(j))\n",
    "            file.write('\\n')\n",
    "        #file.write(str(Propagated_Flux))\n",
    "    \n",
    "\n",
    "def Read_Propagated_Flux_from_Text_File(directory, DiscModelName, Tflare):\n",
    "    # Create the text file\n",
    "    filename = f\"TFlare={Tflare:.2e}\"+DiscModelName+\".txt\"\n",
    "    filepath = os.path.join(directory, filename)\n",
    "    Propagated_Flux = []\n",
    "    # Read Propagated_Flux_Electron from the text file\n",
    "    Nlist=[]\n",
    "    Propagated_Flux=[]\n",
    "    with open(filepath, \"r\") as file:\n",
    "        F=file.read()\n",
    "        file.close()\n",
    "    F=F.split('\\n')\n",
    "    for i in range(len(F)-1):\n",
    "        Nlist.append(float(F[i].split(',')[0]))\n",
    "        Propagated_Flux.append(F[i].split(','))\n",
    "        del Propagated_Flux[i][0]\n",
    "        Propagated_Flux[i]=[float(x) for x in Propagated_Flux[i]]\n",
    "    return np.array(Nlist), np.array(Propagated_Flux)\n",
    "    "
   ]
  },
  {
   "cell_type": "code",
   "execution_count": null,
   "metadata": {},
   "outputs": [],
   "source": [
    "\n",
    "\n",
    "\n",
    "\n",
    "#Propagated_Flux_Electron_Read=Read_Propagated_Flux_from_Text_File(\"Propagated_Spectra_Electron\",Tflare)[1]\n",
    "#ColumnDensity_Read=Read_Propagated_Flux_from_Text_File(\"Propagated_Spectra_Electron\",Tflare)[0]"
   ]
  }
 ],
 "metadata": {
  "kernelspec": {
   "display_name": "Python 3",
   "language": "python",
   "name": "python3"
  },
  "language_info": {
   "codemirror_mode": {
    "name": "ipython",
    "version": 3
   },
   "file_extension": ".py",
   "mimetype": "text/x-python",
   "name": "python",
   "nbconvert_exporter": "python",
   "pygments_lexer": "ipython3",
   "version": "3.10.13"
  }
 },
 "nbformat": 4,
 "nbformat_minor": 2
}
